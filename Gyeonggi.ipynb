{
 "cells": [
  {
   "cell_type": "code",
   "execution_count": 95,
   "metadata": {},
   "outputs": [],
   "source": [
    "import pandas as pd\n",
    "import numpy as np\n",
    "import os\n",
    "import seaborn as sns\n",
    "import matplotlib.pyplot as plt\n",
    "%matplotlib inline\n",
    "from matplotlib import font_manager, rc\n",
    "font_name = font_manager.FontProperties(fname=\"c:/Windows/Fonts/malgun.ttf\").get_name()\n",
    "rc('font', family=font_name)\n",
    "import seaborn as sns"
   ]
  },
  {
   "cell_type": "code",
   "execution_count": 96,
   "metadata": {},
   "outputs": [],
   "source": [
    "df = pd.read_csv(\"gyeonggi_data.csv\",  header='infer', encoding='euc-kr')"
   ]
  },
  {
   "cell_type": "markdown",
   "metadata": {},
   "source": [
    "## 전처리"
   ]
  },
  {
   "cell_type": "code",
   "execution_count": 97,
   "metadata": {},
   "outputs": [],
   "source": [
    "# 기존 데이터에 인구, 기온 column을 추가한다.\n",
    "# 인구, 기온 데이터 가져오기\n",
    "popu_temp = pd.read_csv(\"population_and_temp.csv\",  header='infer', encoding='euc-kr')"
   ]
  },
  {
   "cell_type": "code",
   "execution_count": 98,
   "metadata": {},
   "outputs": [],
   "source": [
    "# 지점명을 기준으로 merge\n",
    "\n",
    "df = df.merge(popu_temp, how='inner')"
   ]
  },
  {
   "cell_type": "code",
   "execution_count": 99,
   "metadata": {},
   "outputs": [],
   "source": [
    "df = df.rename(columns={'지점명' : '지역명'})\n",
    "df['인구'] = df['Population'].apply(lambda x : int(\"\".join(x.split(\",\"))))\n",
    "df.drop(columns=['Population'], inplace=True)"
   ]
  },
  {
   "cell_type": "code",
   "execution_count": 100,
   "metadata": {
    "scrolled": true
   },
   "outputs": [
    {
     "data": {
      "text/html": [
       "<div>\n",
       "<style scoped>\n",
       "    .dataframe tbody tr th:only-of-type {\n",
       "        vertical-align: middle;\n",
       "    }\n",
       "\n",
       "    .dataframe tbody tr th {\n",
       "        vertical-align: top;\n",
       "    }\n",
       "\n",
       "    .dataframe thead th {\n",
       "        text-align: right;\n",
       "    }\n",
       "</style>\n",
       "<table border=\"1\" class=\"dataframe\">\n",
       "  <thead>\n",
       "    <tr style=\"text-align: right;\">\n",
       "      <th></th>\n",
       "      <th>지역명</th>\n",
       "      <th>발생건수</th>\n",
       "      <th>사상자수</th>\n",
       "      <th>사망자수</th>\n",
       "      <th>중상자수</th>\n",
       "      <th>경상자수</th>\n",
       "      <th>부상신고자수</th>\n",
       "      <th>평균기온</th>\n",
       "      <th>인구</th>\n",
       "    </tr>\n",
       "  </thead>\n",
       "  <tbody>\n",
       "    <tr>\n",
       "      <th>0</th>\n",
       "      <td>고양시</td>\n",
       "      <td>40</td>\n",
       "      <td>103</td>\n",
       "      <td>1</td>\n",
       "      <td>26</td>\n",
       "      <td>70</td>\n",
       "      <td>6</td>\n",
       "      <td>-0.30</td>\n",
       "      <td>1079216</td>\n",
       "    </tr>\n",
       "    <tr>\n",
       "      <th>1</th>\n",
       "      <td>광명시</td>\n",
       "      <td>6</td>\n",
       "      <td>11</td>\n",
       "      <td>0</td>\n",
       "      <td>1</td>\n",
       "      <td>8</td>\n",
       "      <td>2</td>\n",
       "      <td>0.94</td>\n",
       "      <td>298599</td>\n",
       "    </tr>\n",
       "    <tr>\n",
       "      <th>2</th>\n",
       "      <td>광주시</td>\n",
       "      <td>3</td>\n",
       "      <td>6</td>\n",
       "      <td>0</td>\n",
       "      <td>2</td>\n",
       "      <td>4</td>\n",
       "      <td>0</td>\n",
       "      <td>-0.53</td>\n",
       "      <td>382054</td>\n",
       "    </tr>\n",
       "    <tr>\n",
       "      <th>3</th>\n",
       "      <td>김포시</td>\n",
       "      <td>3</td>\n",
       "      <td>4</td>\n",
       "      <td>0</td>\n",
       "      <td>1</td>\n",
       "      <td>3</td>\n",
       "      <td>0</td>\n",
       "      <td>0.28</td>\n",
       "      <td>473970</td>\n",
       "    </tr>\n",
       "    <tr>\n",
       "      <th>4</th>\n",
       "      <td>남양주시</td>\n",
       "      <td>4</td>\n",
       "      <td>5</td>\n",
       "      <td>0</td>\n",
       "      <td>0</td>\n",
       "      <td>5</td>\n",
       "      <td>0</td>\n",
       "      <td>-0.58</td>\n",
       "      <td>713321</td>\n",
       "    </tr>\n",
       "  </tbody>\n",
       "</table>\n",
       "</div>"
      ],
      "text/plain": [
       "    지역명  발생건수  사상자수  사망자수  중상자수  경상자수  부상신고자수  평균기온       인구\n",
       "0   고양시    40   103     1    26    70       6 -0.30  1079216\n",
       "1   광명시     6    11     0     1     8       2  0.94   298599\n",
       "2   광주시     3     6     0     2     4       0 -0.53   382054\n",
       "3   김포시     3     4     0     1     3       0  0.28   473970\n",
       "4  남양주시     4     5     0     0     5       0 -0.58   713321"
      ]
     },
     "execution_count": 100,
     "metadata": {},
     "output_type": "execute_result"
    }
   ],
   "source": [
    "# 확인\n",
    "df.head()"
   ]
  },
  {
   "cell_type": "code",
   "execution_count": null,
   "metadata": {},
   "outputs": [],
   "source": []
  },
  {
   "cell_type": "markdown",
   "metadata": {},
   "source": [
    "## 분석 및 시각화"
   ]
  },
  {
   "cell_type": "markdown",
   "metadata": {},
   "source": [
    "### 1. 분포 살펴보기 & 한계점"
   ]
  },
  {
   "cell_type": "code",
   "execution_count": 101,
   "metadata": {},
   "outputs": [
    {
     "data": {
      "image/png": "[encoded data removed]",
      "text/plain": [
       "<Figure size 432x288 with 1 Axes>"
      ]
     },
     "metadata": {
      "needs_background": "light"
     },
     "output_type": "display_data"
    }
   ],
   "source": [
    "# 우선 결빙사고 발생건수의 분포를 Boxplot을 통해 살펴본다. \n",
    "# 이상치가 존재함을 알 수 있다. 다음의 Barchart를 통해 좀 더 자세하게 살펴본다. \n",
    "\n",
    "plt.boxplot(df.발생건수 , labels=[\"발생건수\"])\n",
    "plt.title(\"결빙사고 발생건수의 분포\")\n",
    "plt.savefig('결빙사고_발생건수_분포.png', dpi = 300)\n",
    "plt.show()"
   ]
  },
  {
   "cell_type": "code",
   "execution_count": null,
   "metadata": {},
   "outputs": [],
   "source": []
  },
  {
   "cell_type": "code",
   "execution_count": 102,
   "metadata": {},
   "outputs": [
    {
     "data": {
      "image/png": "[encoded data removed]",
      "text/plain": [
       "<Figure size 432x288 with 1 Axes>"
      ]
     },
     "metadata": {
      "needs_background": "light"
     },
     "output_type": "display_data"
    }
   ],
   "source": [
    "# 경기도 지역벌 인구수 비교\n",
    "# 수원, 고양, 용인, 성남순으로 인구가 많음\n",
    "# 이를 통해 인구가 많은 지역이 사고발생건수가 높을 것이라고 예상할 수 있음 \n",
    "\n",
    "sns.barplot(x = \"지역명\", y = \"인구\", data = df, ci = None, estimator=np.sum, alpha = 0.7)\n",
    "plt.title(\"지역별 인구수\")\n",
    "plt.xticks(rotation = 70 )\n",
    "plt.show()"
   ]
  },
  {
   "cell_type": "code",
   "execution_count": null,
   "metadata": {},
   "outputs": [],
   "source": []
  },
  {
   "cell_type": "code",
   "execution_count": 103,
   "metadata": {},
   "outputs": [
    {
     "data": {
      "image/png": "[encoded data removed]",
      "text/plain": [
       "<Figure size 432x288 with 1 Axes>"
      ]
     },
     "metadata": {
      "needs_background": "light"
     },
     "output_type": "display_data"
    }
   ],
   "source": [
    "# 지역별 결빙사고 발생건수 비교\n",
    "# 단순 발생건수는 수원, 고양, 안산, 평택 순으로 많았다.\n",
    "# 예상대로 인구가 많은 수원이나 고양의 경우 발생건수가 많았다.\n",
    "\n",
    "sns.barplot(x = \"지역명\", y = \"발생건수\", data = df, ci = None, estimator=np.sum, alpha = 0.7)\n",
    "plt.title(\"지역별 발생건수\")\n",
    "plt.xticks(rotation = 70 )\n",
    "plt.show()"
   ]
  },
  {
   "cell_type": "code",
   "execution_count": 104,
   "metadata": {},
   "outputs": [
    {
     "data": {
      "image/png": "[encoded data removed]",
      "text/plain": [
       "<Figure size 432x288 with 1 Axes>"
      ]
     },
     "metadata": {
      "needs_background": "light"
     },
     "output_type": "display_data"
    }
   ],
   "source": [
    "# 지역별 사고 사상자수 비교\n",
    "# 마찬가지로 인구가 많은 지역은 사상자수도 많은 경향을 보인다.\n",
    "# 따라서 정확한 분석을 위해 단순한 합계가 아닌 인구대비 비율을 구해 비교해야 한다.\n",
    "\n",
    "sns.barplot(x = df.지역명, y = df.사상자수, data = df, ci = None, estimator= np.sum, alpha = 0.7)\n",
    "plt.title(\"지역별 사상자수\")\n",
    "plt.xticks(rotation = 70 )\n",
    "plt.show()"
   ]
  },
  {
   "cell_type": "code",
   "execution_count": null,
   "metadata": {},
   "outputs": [],
   "source": []
  },
  {
   "cell_type": "markdown",
   "metadata": {},
   "source": [
    "### 2. 인구 대비 비율 비교"
   ]
  },
  {
   "cell_type": "code",
   "execution_count": 105,
   "metadata": {},
   "outputs": [
    {
     "data": {
      "image/png": "[encoded data removed]",
      "text/plain": [
       "<Figure size 432x288 with 1 Axes>"
      ]
     },
     "metadata": {
      "needs_background": "light"
     },
     "output_type": "display_data"
    }
   ],
   "source": [
    "# 지역별 인구대비 사고발생률 비교\n",
    "# 사고발생률 =  (발생건수 / 인구수)*100 로 계산함\n",
    "# 단순 발생건수와는 다르게 안성, 양주, 동두천, 안산 순으로 높았다. \n",
    "\n",
    "sns.barplot(x = df.지역명, y = (df.발생건수 / df.인구)*100, data = df, ci = None, estimator=np.sum, alpha = 0.7)\n",
    "plt.title(\"지역별 인구대비 사고발생건수 비율\")\n",
    "plt.tight_layout()\n",
    "plt.xticks(rotation = 65)\n",
    "#plt.savefig(\"인구대비_발생건수.png\", dpi = 300)\n",
    "plt.show()"
   ]
  },
  {
   "cell_type": "code",
   "execution_count": null,
   "metadata": {},
   "outputs": [],
   "source": []
  },
  {
   "cell_type": "code",
   "execution_count": 106,
   "metadata": {},
   "outputs": [
    {
     "data": {
      "image/png": "[encoded data removed]",
      "text/plain": [
       "<Figure size 432x288 with 1 Axes>"
      ]
     },
     "metadata": {
      "needs_background": "light"
     },
     "output_type": "display_data"
    }
   ],
   "source": [
    "# 지역별 인구대비 사상자수의 비율 비교\n",
    "# 사상자 비율 =  (사상자수 / 인구수)*100 로 계산함\n",
    "# 단순 사상자수 비교의 결과와는 다르게, 경기도 내에서 인구가 비교적 적은 안산, 안성, 양주, 포천 등의 지역이 사상자 비율이 높았다.\n",
    "\n",
    "sns.barplot(x = df.지역명, y = (df.사상자수 / df. 인구) * 100 , data = df, ci = None, estimator= np.sum, alpha = 0.7)\n",
    "plt.title(\"지역별 인구대비 사상자의 비율\")\n",
    "plt.tight_layout()\n",
    "plt.xticks(rotation = 65)\n",
    "#plt.savefig(\"인구대비_사상자수.png\", dpi = 300)\n",
    "plt.show()"
   ]
  },
  {
   "cell_type": "code",
   "execution_count": null,
   "metadata": {},
   "outputs": [],
   "source": []
  },
  {
   "cell_type": "code",
   "execution_count": 107,
   "metadata": {},
   "outputs": [
    {
     "data": {
      "text/html": [
       "<div>\n",
       "<style scoped>\n",
       "    .dataframe tbody tr th:only-of-type {\n",
       "        vertical-align: middle;\n",
       "    }\n",
       "\n",
       "    .dataframe tbody tr th {\n",
       "        vertical-align: top;\n",
       "    }\n",
       "\n",
       "    .dataframe thead th {\n",
       "        text-align: right;\n",
       "    }\n",
       "</style>\n",
       "<table border=\"1\" class=\"dataframe\">\n",
       "  <thead>\n",
       "    <tr style=\"text-align: right;\">\n",
       "      <th></th>\n",
       "      <th>지역명</th>\n",
       "      <th>발생건수비율</th>\n",
       "    </tr>\n",
       "  </thead>\n",
       "  <tbody>\n",
       "    <tr>\n",
       "      <th>11</th>\n",
       "      <td>안성시</td>\n",
       "      <td>0.009090</td>\n",
       "    </tr>\n",
       "    <tr>\n",
       "      <th>12</th>\n",
       "      <td>양주시</td>\n",
       "      <td>0.008248</td>\n",
       "    </tr>\n",
       "    <tr>\n",
       "      <th>5</th>\n",
       "      <td>동두천시</td>\n",
       "      <td>0.006359</td>\n",
       "    </tr>\n",
       "    <tr>\n",
       "      <th>10</th>\n",
       "      <td>안산시</td>\n",
       "      <td>0.005650</td>\n",
       "    </tr>\n",
       "  </tbody>\n",
       "</table>\n",
       "</div>"
      ],
      "text/plain": [
       "     지역명    발생건수비율\n",
       "11   안성시  0.009090\n",
       "12   양주시  0.008248\n",
       "5   동두천시  0.006359\n",
       "10   안산시  0.005650"
      ]
     },
     "execution_count": 107,
     "metadata": {},
     "output_type": "execute_result"
    }
   ],
   "source": [
    "# 인구대비 사고 발생건수 비율 - Top 4 지역\n",
    "\n",
    "df['발생건수비율'] = (df.발생건수 / df.인구)*100\n",
    "df[['지역명', '발생건수비율']].sort_values(\"발생건수비율\", ascending = False)[:4]"
   ]
  },
  {
   "cell_type": "code",
   "execution_count": 108,
   "metadata": {},
   "outputs": [
    {
     "data": {
      "text/html": [
       "<div>\n",
       "<style scoped>\n",
       "    .dataframe tbody tr th:only-of-type {\n",
       "        vertical-align: middle;\n",
       "    }\n",
       "\n",
       "    .dataframe tbody tr th {\n",
       "        vertical-align: top;\n",
       "    }\n",
       "\n",
       "    .dataframe thead th {\n",
       "        text-align: right;\n",
       "    }\n",
       "</style>\n",
       "<table border=\"1\" class=\"dataframe\">\n",
       "  <thead>\n",
       "    <tr style=\"text-align: right;\">\n",
       "      <th></th>\n",
       "      <th>지역명</th>\n",
       "      <th>사상자수비율</th>\n",
       "    </tr>\n",
       "  </thead>\n",
       "  <tbody>\n",
       "    <tr>\n",
       "      <th>11</th>\n",
       "      <td>안성시</td>\n",
       "      <td>0.018181</td>\n",
       "    </tr>\n",
       "    <tr>\n",
       "      <th>12</th>\n",
       "      <td>양주시</td>\n",
       "      <td>0.014760</td>\n",
       "    </tr>\n",
       "    <tr>\n",
       "      <th>10</th>\n",
       "      <td>안산시</td>\n",
       "      <td>0.012215</td>\n",
       "    </tr>\n",
       "    <tr>\n",
       "      <th>17</th>\n",
       "      <td>포천시</td>\n",
       "      <td>0.010864</td>\n",
       "    </tr>\n",
       "  </tbody>\n",
       "</table>\n",
       "</div>"
      ],
      "text/plain": [
       "    지역명    사상자수비율\n",
       "11  안성시  0.018181\n",
       "12  양주시  0.014760\n",
       "10  안산시  0.012215\n",
       "17  포천시  0.010864"
      ]
     },
     "execution_count": 108,
     "metadata": {},
     "output_type": "execute_result"
    }
   ],
   "source": [
    "# 인구대비 사상자수의 비율 - Top 4 지역 \n",
    "\n",
    "df['사상자수비율'] = (df.사상자수 / df.인구)*100\n",
    "df[['지역명', '사상자수비율']].sort_values(\"사상자수비율\", ascending = False)[:4]"
   ]
  },
  {
   "cell_type": "code",
   "execution_count": null,
   "metadata": {},
   "outputs": [],
   "source": []
  },
  {
   "cell_type": "code",
   "execution_count": 109,
   "metadata": {},
   "outputs": [
    {
     "data": {
      "image/png": "[encoded data removed]",
      "text/plain": [
       "<Figure size 432x288 with 1 Axes>"
      ]
     },
     "metadata": {
      "needs_background": "light"
     },
     "output_type": "display_data"
    }
   ],
   "source": [
    "# 비율 데이터를 바탕으로 한 분포 파악\n",
    "# 이상치가 사라졌음을 알 수 있다.\n",
    "\n",
    "plt.boxplot([df.발생건수비율, df.사상자수비율], labels=['사고발생건수비율', '사상자수비율'], )\n",
    "plt.title(\"각 비율데이터 분포\")\n",
    "plt.show()"
   ]
  },
  {
   "cell_type": "code",
   "execution_count": null,
   "metadata": {},
   "outputs": [],
   "source": []
  },
  {
   "cell_type": "code",
   "execution_count": 110,
   "metadata": {},
   "outputs": [],
   "source": [
    "# 인구대비 비율을 통한 지역간 비교가 더 적절함을 알 수 있다.\n",
    "# 결론적으로 인구대비 사고발생건수와 사상자수 모두 높은 지역은 안성시, 양주시, 안산시이다. "
   ]
  },
  {
   "cell_type": "markdown",
   "metadata": {},
   "source": [
    "### 3. 상관관계 분석"
   ]
  },
  {
   "cell_type": "code",
   "execution_count": 111,
   "metadata": {},
   "outputs": [],
   "source": [
    "# 각 변수간 상관관계를 분석해본다."
   ]
  },
  {
   "cell_type": "code",
   "execution_count": 112,
   "metadata": {},
   "outputs": [
    {
     "data": {
      "text/html": [
       "<div>\n",
       "<style scoped>\n",
       "    .dataframe tbody tr th:only-of-type {\n",
       "        vertical-align: middle;\n",
       "    }\n",
       "\n",
       "    .dataframe tbody tr th {\n",
       "        vertical-align: top;\n",
       "    }\n",
       "\n",
       "    .dataframe thead th {\n",
       "        text-align: right;\n",
       "    }\n",
       "</style>\n",
       "<table border=\"1\" class=\"dataframe\">\n",
       "  <thead>\n",
       "    <tr style=\"text-align: right;\">\n",
       "      <th></th>\n",
       "      <th>발생건수</th>\n",
       "      <th>사상자수</th>\n",
       "      <th>인구</th>\n",
       "      <th>발생건수비율</th>\n",
       "      <th>사상자수비율</th>\n",
       "    </tr>\n",
       "  </thead>\n",
       "  <tbody>\n",
       "    <tr>\n",
       "      <th>발생건수</th>\n",
       "      <td>1.000000</td>\n",
       "      <td>0.979865</td>\n",
       "      <td>0.551679</td>\n",
       "      <td>0.488681</td>\n",
       "      <td>0.529991</td>\n",
       "    </tr>\n",
       "    <tr>\n",
       "      <th>사상자수</th>\n",
       "      <td>0.979865</td>\n",
       "      <td>1.000000</td>\n",
       "      <td>0.591491</td>\n",
       "      <td>0.445337</td>\n",
       "      <td>0.522222</td>\n",
       "    </tr>\n",
       "    <tr>\n",
       "      <th>인구</th>\n",
       "      <td>0.551679</td>\n",
       "      <td>0.591491</td>\n",
       "      <td>1.000000</td>\n",
       "      <td>-0.299331</td>\n",
       "      <td>-0.232177</td>\n",
       "    </tr>\n",
       "    <tr>\n",
       "      <th>발생건수비율</th>\n",
       "      <td>0.488681</td>\n",
       "      <td>0.445337</td>\n",
       "      <td>-0.299331</td>\n",
       "      <td>1.000000</td>\n",
       "      <td>0.962880</td>\n",
       "    </tr>\n",
       "    <tr>\n",
       "      <th>사상자수비율</th>\n",
       "      <td>0.529991</td>\n",
       "      <td>0.522222</td>\n",
       "      <td>-0.232177</td>\n",
       "      <td>0.962880</td>\n",
       "      <td>1.000000</td>\n",
       "    </tr>\n",
       "  </tbody>\n",
       "</table>\n",
       "</div>"
      ],
      "text/plain": [
       "            발생건수      사상자수        인구    발생건수비율    사상자수비율\n",
       "발생건수    1.000000  0.979865  0.551679  0.488681  0.529991\n",
       "사상자수    0.979865  1.000000  0.591491  0.445337  0.522222\n",
       "인구      0.551679  0.591491  1.000000 -0.299331 -0.232177\n",
       "발생건수비율  0.488681  0.445337 -0.299331  1.000000  0.962880\n",
       "사상자수비율  0.529991  0.522222 -0.232177  0.962880  1.000000"
      ]
     },
     "execution_count": 112,
     "metadata": {},
     "output_type": "execute_result"
    }
   ],
   "source": [
    "# 상관계수\n",
    "df.loc[:, [\"발생건수\", \"사상자수\", \"인구\", \"발생건수비율\", \"사상자수비율\"]].corr()"
   ]
  },
  {
   "cell_type": "code",
   "execution_count": 113,
   "metadata": {},
   "outputs": [
    {
     "name": "stderr",
     "output_type": "stream",
     "text": [
      "C:\\Users\\Sun\\anaconda3\\lib\\site-packages\\matplotlib\\backends\\backend_agg.py:238: RuntimeWarning: Glyph 8722 missing from current font.\n",
      "  font.set_text(s, 0.0, flags=flags)\n",
      "C:\\Users\\Sun\\anaconda3\\lib\\site-packages\\matplotlib\\backends\\backend_agg.py:201: RuntimeWarning: Glyph 8722 missing from current font.\n",
      "  font.set_text(s, 0, flags=flags)\n"
     ]
    },
    {
     "data": {
      "image/png": "[encoded data removed]",
      "text/plain": [
       "<Figure size 432x288 with 2 Axes>"
      ]
     },
     "metadata": {
      "needs_background": "light"
     },
     "output_type": "display_data"
    }
   ],
   "source": [
    "# 상관계수 히트맵\n",
    "\n",
    "x = df.loc[:, [\"발생건수\", \"사상자수\", \"인구\", \"발생건수비율\", \"사상자수비율\"]].corr()\n",
    "sns.heatmap(x, cmap = 'coolwarm')\n",
    "plt.title(\"상관계수 히트맵\")\n",
    "plt.show()"
   ]
  },
  {
   "cell_type": "code",
   "execution_count": 48,
   "metadata": {},
   "outputs": [],
   "source": [
    "# 결론적으로, 인구수는 단순 사고 발생건수나 사상자수와 양적 상관관계를 보였으나,\n",
    "# 발생건수의 비율과 사상자수의 비율과는 음의 상관관계를 보였다. "
   ]
  },
  {
   "cell_type": "code",
   "execution_count": null,
   "metadata": {},
   "outputs": [],
   "source": []
  },
  {
   "cell_type": "code",
   "execution_count": 116,
   "metadata": {},
   "outputs": [
    {
     "data": {
      "text/html": [
       "<div>\n",
       "<style scoped>\n",
       "    .dataframe tbody tr th:only-of-type {\n",
       "        vertical-align: middle;\n",
       "    }\n",
       "\n",
       "    .dataframe tbody tr th {\n",
       "        vertical-align: top;\n",
       "    }\n",
       "\n",
       "    .dataframe thead th {\n",
       "        text-align: right;\n",
       "    }\n",
       "</style>\n",
       "<table border=\"1\" class=\"dataframe\">\n",
       "  <thead>\n",
       "    <tr style=\"text-align: right;\">\n",
       "      <th></th>\n",
       "      <th>발생건수</th>\n",
       "      <th>사상자수</th>\n",
       "      <th>인구</th>\n",
       "      <th>발생건수비율</th>\n",
       "      <th>사상자수비율</th>\n",
       "      <th>평균기온</th>\n",
       "    </tr>\n",
       "  </thead>\n",
       "  <tbody>\n",
       "    <tr>\n",
       "      <th>발생건수</th>\n",
       "      <td>1.000000</td>\n",
       "      <td>0.979865</td>\n",
       "      <td>0.551679</td>\n",
       "      <td>0.488681</td>\n",
       "      <td>0.529991</td>\n",
       "      <td>0.242521</td>\n",
       "    </tr>\n",
       "    <tr>\n",
       "      <th>사상자수</th>\n",
       "      <td>0.979865</td>\n",
       "      <td>1.000000</td>\n",
       "      <td>0.591491</td>\n",
       "      <td>0.445337</td>\n",
       "      <td>0.522222</td>\n",
       "      <td>0.218819</td>\n",
       "    </tr>\n",
       "    <tr>\n",
       "      <th>인구</th>\n",
       "      <td>0.551679</td>\n",
       "      <td>0.591491</td>\n",
       "      <td>1.000000</td>\n",
       "      <td>-0.299331</td>\n",
       "      <td>-0.232177</td>\n",
       "      <td>0.420180</td>\n",
       "    </tr>\n",
       "    <tr>\n",
       "      <th>발생건수비율</th>\n",
       "      <td>0.488681</td>\n",
       "      <td>0.445337</td>\n",
       "      <td>-0.299331</td>\n",
       "      <td>1.000000</td>\n",
       "      <td>0.962880</td>\n",
       "      <td>-0.251925</td>\n",
       "    </tr>\n",
       "    <tr>\n",
       "      <th>사상자수비율</th>\n",
       "      <td>0.529991</td>\n",
       "      <td>0.522222</td>\n",
       "      <td>-0.232177</td>\n",
       "      <td>0.962880</td>\n",
       "      <td>1.000000</td>\n",
       "      <td>-0.273137</td>\n",
       "    </tr>\n",
       "    <tr>\n",
       "      <th>평균기온</th>\n",
       "      <td>0.242521</td>\n",
       "      <td>0.218819</td>\n",
       "      <td>0.420180</td>\n",
       "      <td>-0.251925</td>\n",
       "      <td>-0.273137</td>\n",
       "      <td>1.000000</td>\n",
       "    </tr>\n",
       "  </tbody>\n",
       "</table>\n",
       "</div>"
      ],
      "text/plain": [
       "            발생건수      사상자수        인구    발생건수비율    사상자수비율      평균기온\n",
       "발생건수    1.000000  0.979865  0.551679  0.488681  0.529991  0.242521\n",
       "사상자수    0.979865  1.000000  0.591491  0.445337  0.522222  0.218819\n",
       "인구      0.551679  0.591491  1.000000 -0.299331 -0.232177  0.420180\n",
       "발생건수비율  0.488681  0.445337 -0.299331  1.000000  0.962880 -0.251925\n",
       "사상자수비율  0.529991  0.522222 -0.232177  0.962880  1.000000 -0.273137\n",
       "평균기온    0.242521  0.218819  0.420180 -0.251925 -0.273137  1.000000"
      ]
     },
     "execution_count": 116,
     "metadata": {},
     "output_type": "execute_result"
    }
   ],
   "source": [
    "df.loc[:, [\"발생건수\", \"사상자수\", \"인구\", \"발생건수비율\", \"사상자수비율\", \"평균기온\"]].corr()"
   ]
  },
  {
   "cell_type": "code",
   "execution_count": 117,
   "metadata": {},
   "outputs": [
    {
     "name": "stderr",
     "output_type": "stream",
     "text": [
      "C:\\Users\\Sun\\anaconda3\\lib\\site-packages\\matplotlib\\backends\\backend_agg.py:238: RuntimeWarning: Glyph 8722 missing from current font.\n",
      "  font.set_text(s, 0.0, flags=flags)\n",
      "C:\\Users\\Sun\\anaconda3\\lib\\site-packages\\matplotlib\\backends\\backend_agg.py:201: RuntimeWarning: Glyph 8722 missing from current font.\n",
      "  font.set_text(s, 0, flags=flags)\n"
     ]
    },
    {
     "data": {
      "image/png": "[encoded data removed]",
      "text/plain": [
       "<Figure size 432x288 with 2 Axes>"
      ]
     },
     "metadata": {
      "needs_background": "light"
     },
     "output_type": "display_data"
    }
   ],
   "source": [
    "x = df.loc[:, [\"발생건수\", \"사상자수\", \"인구\", \"발생건수비율\", \"사상자수비율\", \"평균기온\"]].corr()\n",
    "sns.heatmap(data = x, annot=True, fmt = '.3f', linewidths=.5, cmap='Blues')\n",
    "plt.xticks(rotation = 45)\n",
    "plt.title(\"상관계수 히트맵\")\n",
    "plt.tight_layout()\n",
    "# plt.savefig(\"상관계수_히트맵.png\", dpi = 300)\n",
    "plt.show()"
   ]
  },
  {
   "cell_type": "markdown",
   "metadata": {},
   "source": [
    "- 결론적으로, 인구수는 단순 사고 발생건수나 사상자수와 양적 상관관계를 보였으나, 발생건수의 비율과 사상자수의 비율과는 음의 상관관계를 보였다. 즉, 인구수가 적을 수록 인구 대비 사고 발생건수나 사상자수는 증가하는 경향을 보였다. 하지만 유의미한 크기는 아니었다. \n",
    "- 한편 평균기온이 낮아질수록 . 하지만 이 역시 유의미한 크기는 아니었다. "
   ]
  }
 ],
 "metadata": {
  "kernelspec": {
   "display_name": "Python 3",
   "language": "python",
   "name": "python3"
  },
  "language_info": {
   "codemirror_mode": {
    "name": "ipython",
    "version": 3
   },
   "file_extension": ".py",
   "mimetype": "text/x-python",
   "name": "python",
   "nbconvert_exporter": "python",
   "pygments_lexer": "ipython3",
   "version": "3.8.5"
  }
 },
 "nbformat": 4,
 "nbformat_minor": 4
}
