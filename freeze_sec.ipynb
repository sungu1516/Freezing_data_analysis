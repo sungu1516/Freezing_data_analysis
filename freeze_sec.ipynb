{
 "cells": [
  {
   "cell_type": "code",
   "execution_count": 34,
   "metadata": {},
   "outputs": [],
   "source": [
    "import pandas as pd\n",
    "import numpy as np\n",
    "import os\n",
    "import matplotlib.pyplot as plt\n",
    "%matplotlib inline\n",
    "from matplotlib import font_manager, rc\n",
    "font_name = font_manager.FontProperties(fname=\"c:/Windows/Fonts/malgun.ttf\").get_name()\n",
    "rc('font', family=font_name)\n",
    "import seaborn as sns"
   ]
  },
  {
   "cell_type": "code",
   "execution_count": 35,
   "metadata": {},
   "outputs": [],
   "source": [
    "df = pd.read_csv(\"freezing_section.csv\",  header='infer', encoding = 'euc-kr')"
   ]
  },
  {
   "cell_type": "markdown",
   "metadata": {},
   "source": [
    "## 데이터 전처리"
   ]
  },
  {
   "cell_type": "code",
   "execution_count": 36,
   "metadata": {
    "scrolled": true
   },
   "outputs": [],
   "source": [
    "df = df.drop(columns=\"사고다발지FID\")\n",
    "df.drop(columns=([\"경도\", \"위도\", \"다발지역폴리곤\"]), inplace=True)\n",
    "df = df.rename(columns={'사고다발지ID' : \"발생년도\"})\n",
    "df.drop(columns=([\"법정동코드\", \"지점코드\"]), inplace=True)\n",
    "df['발생년도'] = df['발생년도'].apply(lambda x: int(str(x)[:4]))\n",
    "df['시도시군구명'] = df['시도시군구명'].apply(lambda x : x.split(\" \")[0])\n",
    "df = df.rename(columns={'시도시군구명' : \"시도명\"})"
   ]
  },
  {
   "cell_type": "code",
   "execution_count": 37,
   "metadata": {},
   "outputs": [],
   "source": [
    "df = df.drop(columns=\"발생년도\")"
   ]
  },
  {
   "cell_type": "code",
   "execution_count": 38,
   "metadata": {},
   "outputs": [],
   "source": [
    "# 중복치 제거\n",
    "df = df.drop_duplicates()"
   ]
  },
  {
   "cell_type": "code",
   "execution_count": 39,
   "metadata": {
    "scrolled": true
   },
   "outputs": [
    {
     "data": {
      "text/html": [
       "<div>\n",
       "<style scoped>\n",
       "    .dataframe tbody tr th:only-of-type {\n",
       "        vertical-align: middle;\n",
       "    }\n",
       "\n",
       "    .dataframe tbody tr th {\n",
       "        vertical-align: top;\n",
       "    }\n",
       "\n",
       "    .dataframe thead th {\n",
       "        text-align: right;\n",
       "    }\n",
       "</style>\n",
       "<table border=\"1\" class=\"dataframe\">\n",
       "  <thead>\n",
       "    <tr style=\"text-align: right;\">\n",
       "      <th></th>\n",
       "      <th>시도명</th>\n",
       "      <th>지점명</th>\n",
       "      <th>발생건수</th>\n",
       "      <th>사상자수</th>\n",
       "      <th>사망자수</th>\n",
       "      <th>중상자수</th>\n",
       "      <th>경상자수</th>\n",
       "      <th>부상신고자수</th>\n",
       "    </tr>\n",
       "  </thead>\n",
       "  <tbody>\n",
       "    <tr>\n",
       "      <th>0</th>\n",
       "      <td>서울특별시</td>\n",
       "      <td>서울특별시 종로구 창신동(동묘앞역 부근)</td>\n",
       "      <td>3</td>\n",
       "      <td>4</td>\n",
       "      <td>0</td>\n",
       "      <td>2</td>\n",
       "      <td>2</td>\n",
       "      <td>0</td>\n",
       "    </tr>\n",
       "    <tr>\n",
       "      <th>1</th>\n",
       "      <td>서울특별시</td>\n",
       "      <td>서울특별시 중구 을지로2가(을지로1가을지로진출1 부근)</td>\n",
       "      <td>3</td>\n",
       "      <td>5</td>\n",
       "      <td>0</td>\n",
       "      <td>2</td>\n",
       "      <td>3</td>\n",
       "      <td>0</td>\n",
       "    </tr>\n",
       "    <tr>\n",
       "      <th>2</th>\n",
       "      <td>서울특별시</td>\n",
       "      <td>서울특별시 성동구 성수동1가(동부간선도로강변북로 부근)</td>\n",
       "      <td>3</td>\n",
       "      <td>3</td>\n",
       "      <td>0</td>\n",
       "      <td>1</td>\n",
       "      <td>1</td>\n",
       "      <td>1</td>\n",
       "    </tr>\n",
       "    <tr>\n",
       "      <th>3</th>\n",
       "      <td>서울특별시</td>\n",
       "      <td>서울특별시 광진구 화양동(건대입구역 부근)</td>\n",
       "      <td>3</td>\n",
       "      <td>7</td>\n",
       "      <td>0</td>\n",
       "      <td>2</td>\n",
       "      <td>4</td>\n",
       "      <td>1</td>\n",
       "    </tr>\n",
       "    <tr>\n",
       "      <th>4</th>\n",
       "      <td>서울특별시</td>\n",
       "      <td>서울특별시 동대문구 장안동(동부간선도로천호대로 부근)</td>\n",
       "      <td>3</td>\n",
       "      <td>4</td>\n",
       "      <td>0</td>\n",
       "      <td>2</td>\n",
       "      <td>2</td>\n",
       "      <td>0</td>\n",
       "    </tr>\n",
       "  </tbody>\n",
       "</table>\n",
       "</div>"
      ],
      "text/plain": [
       "     시도명                             지점명  발생건수  사상자수  사망자수  중상자수  경상자수  부상신고자수\n",
       "0  서울특별시          서울특별시 종로구 창신동(동묘앞역 부근)     3     4     0     2     2       0\n",
       "1  서울특별시  서울특별시 중구 을지로2가(을지로1가을지로진출1 부근)     3     5     0     2     3       0\n",
       "2  서울특별시  서울특별시 성동구 성수동1가(동부간선도로강변북로 부근)     3     3     0     1     1       1\n",
       "3  서울특별시         서울특별시 광진구 화양동(건대입구역 부근)     3     7     0     2     4       1\n",
       "4  서울특별시   서울특별시 동대문구 장안동(동부간선도로천호대로 부근)     3     4     0     2     2       0"
      ]
     },
     "execution_count": 39,
     "metadata": {},
     "output_type": "execute_result"
    }
   ],
   "source": [
    "df.head(5)"
   ]
  },
  {
   "cell_type": "code",
   "execution_count": null,
   "metadata": {},
   "outputs": [],
   "source": []
  },
  {
   "cell_type": "markdown",
   "metadata": {},
   "source": [
    "## 관련 통계치 도출"
   ]
  },
  {
   "cell_type": "markdown",
   "metadata": {},
   "source": [
    "- 시도별 데이터"
   ]
  },
  {
   "cell_type": "code",
   "execution_count": 40,
   "metadata": {
    "scrolled": true
   },
   "outputs": [
    {
     "data": {
      "text/plain": [
       "경기도        81\n",
       "서울특별시      28\n",
       "광주광역시      26\n",
       "전라남도       21\n",
       "전라북도       12\n",
       "대전광역시      12\n",
       "경상북도       12\n",
       "강원도        11\n",
       "인천광역시       9\n",
       "충청남도        9\n",
       "충청북도        7\n",
       "제주특별자치도     2\n",
       "대구광역시       2\n",
       "경상남도        1\n",
       "부산광역시       1\n",
       "Name: 시도명, dtype: int64"
      ]
     },
     "execution_count": 40,
     "metadata": {},
     "output_type": "execute_result"
    }
   ],
   "source": [
    "# 각 시도별 데이터 빈도표 - 결빙사고 3건 이상 발생 구간은 어느 지역이 많은가? \n",
    "\n",
    "발생구간수 = df.시도명.value_counts()\n",
    "발생구간수"
   ]
  },
  {
   "cell_type": "code",
   "execution_count": 41,
   "metadata": {
    "scrolled": true
   },
   "outputs": [
    {
     "data": {
      "image/png": "[encoded data removed]",
      "text/plain": [
       "<Figure size 432x288 with 1 Axes>"
      ]
     },
     "metadata": {
      "needs_background": "light"
     },
     "output_type": "display_data"
    }
   ],
   "source": [
    "# 위 결과 시각화\n",
    "\n",
    "sns.countplot(x='시도명', data=df, alpha = 0.7)\n",
    "plt.xticks(rotation = 65)\n",
    "plt.show()"
   ]
  },
  {
   "cell_type": "code",
   "execution_count": 42,
   "metadata": {
    "scrolled": false
   },
   "outputs": [
    {
     "name": "stdout",
     "output_type": "stream",
     "text": [
      "시도별 발생건수의 합\n",
      "시도명\n",
      "강원도         33\n",
      "경기도        288\n",
      "경상남도         3\n",
      "경상북도        38\n",
      "광주광역시       96\n",
      "대구광역시        6\n",
      "대전광역시       37\n",
      "부산광역시        3\n",
      "서울특별시       93\n",
      "인천광역시       27\n",
      "전라남도        77\n",
      "전라북도        39\n",
      "제주특별자치도      6\n",
      "충청남도        28\n",
      "충청북도        27\n",
      "Name: 발생건수, dtype: int64 \n",
      "\n",
      "시도별 발생건수의 평균\n",
      "시도명\n",
      "강원도        3.000000\n",
      "경기도        3.555556\n",
      "경상남도       3.000000\n",
      "경상북도       3.166667\n",
      "광주광역시      3.692308\n",
      "대구광역시      3.000000\n",
      "대전광역시      3.083333\n",
      "부산광역시      3.000000\n",
      "서울특별시      3.321429\n",
      "인천광역시      3.000000\n",
      "전라남도       3.666667\n",
      "전라북도       3.250000\n",
      "제주특별자치도    3.000000\n",
      "충청남도       3.111111\n",
      "충청북도       3.857143\n",
      "Name: 발생건수, dtype: float64\n"
     ]
    }
   ],
   "source": [
    "# 시도별 결빙사고 발생건수 통계치\n",
    "\n",
    "발생건수_sum = df.groupby('시도명').발생건수.sum()\n",
    "발생건수_mean = df.groupby('시도명').발생건수.mean()\n",
    "\n",
    "print(\"시도별 발생건수의 합\")\n",
    "print(발생건수_sum, \"\\n\")\n",
    "print(\"시도별 발생건수의 평균\")\n",
    "print(발생건수_mean)"
   ]
  },
  {
   "cell_type": "code",
   "execution_count": 43,
   "metadata": {},
   "outputs": [
    {
     "data": {
      "image/png": "[encoded data removed]",
      "text/plain": [
       "<Figure size 432x288 with 1 Axes>"
      ]
     },
     "metadata": {
      "needs_background": "light"
     },
     "output_type": "display_data"
    }
   ],
   "source": [
    "sns.barplot(x = \"시도명\", y = \"발생건수\", data = df, ci = None, estimator=np.sum, alpha = 0.7)\n",
    "plt.xticks(rotation = 65 )\n",
    "plt.title(\"시도별 사고발생건수(총합)\")\n",
    "plt.tight_layout()\n",
    "# plt.savefig('시도별_발생건수_총합.png', dpi = 300) (이미지 다운로드)\n",
    "plt.show()"
   ]
  },
  {
   "cell_type": "code",
   "execution_count": null,
   "metadata": {},
   "outputs": [],
   "source": []
  },
  {
   "cell_type": "code",
   "execution_count": 44,
   "metadata": {
    "scrolled": true
   },
   "outputs": [
    {
     "data": {
      "text/plain": [
       "시도명\n",
       "강원도         67\n",
       "경기도        589\n",
       "경상남도        10\n",
       "경상북도        68\n",
       "광주광역시      213\n",
       "대구광역시        8\n",
       "대전광역시       66\n",
       "부산광역시        3\n",
       "서울특별시      138\n",
       "인천광역시       55\n",
       "전라남도       164\n",
       "전라북도        85\n",
       "제주특별자치도     11\n",
       "충청남도        60\n",
       "충청북도        83\n",
       "Name: 사상자수, dtype: int64"
      ]
     },
     "execution_count": 44,
     "metadata": {},
     "output_type": "execute_result"
    }
   ],
   "source": [
    "# 시도별 사상자수 통계치\n",
    "\n",
    "사상자수_sum = df.groupby('시도명').사상자수.sum()\n",
    "사상자수_mean = df.groupby('시도명').사상자수.mean()\n",
    "사상자수_sum"
   ]
  },
  {
   "cell_type": "code",
   "execution_count": 45,
   "metadata": {},
   "outputs": [
    {
     "data": {
      "image/png": "[encoded data removed]",
      "text/plain": [
       "<Figure size 432x288 with 1 Axes>"
      ]
     },
     "metadata": {
      "needs_background": "light"
     },
     "output_type": "display_data"
    }
   ],
   "source": [
    "sns.barplot(x = \"시도명\", y = \"사상자수\", data = df, ci = None, estimator=np.sum, alpha = 0.7)\n",
    "plt.xticks(rotation = 65)\n",
    "plt.title(\"시도별 사상자수\")\n",
    "plt.tight_layout()\n",
    "# plt.savefig('시도별_사상자수_총합.png', dpi = 300)\n",
    "plt.show()"
   ]
  },
  {
   "cell_type": "code",
   "execution_count": null,
   "metadata": {},
   "outputs": [],
   "source": []
  },
  {
   "cell_type": "code",
   "execution_count": 46,
   "metadata": {},
   "outputs": [
    {
     "data": {
      "text/plain": [
       "시도명\n",
       "강원도        0\n",
       "경기도        2\n",
       "경상남도       0\n",
       "경상북도       3\n",
       "광주광역시      1\n",
       "대구광역시      0\n",
       "대전광역시      1\n",
       "부산광역시      0\n",
       "서울특별시      1\n",
       "인천광역시      0\n",
       "전라남도       0\n",
       "전라북도       2\n",
       "제주특별자치도    0\n",
       "충청남도       1\n",
       "충청북도       1\n",
       "Name: 사망자수, dtype: int64"
      ]
     },
     "execution_count": 46,
     "metadata": {},
     "output_type": "execute_result"
    }
   ],
   "source": [
    "# 시도별 사망자수 통계치 \n",
    "\n",
    "사망자수_sum = df.groupby('시도명').사망자수.sum()\n",
    "사망자수_mean = df.groupby('시도명').사망자수.mean()\n",
    "사망자수_sum"
   ]
  },
  {
   "cell_type": "code",
   "execution_count": 47,
   "metadata": {},
   "outputs": [
    {
     "data": {
      "image/png": "[encoded data removed]",
      "text/plain": [
       "<Figure size 432x288 with 1 Axes>"
      ]
     },
     "metadata": {
      "needs_background": "light"
     },
     "output_type": "display_data"
    }
   ],
   "source": [
    "sns.barplot(x = \"시도명\", y = \"사망자수\", data = df, ci = None, estimator=np.sum)\n",
    "plt.xticks(rotation = 70 )\n",
    "plt.show()"
   ]
  },
  {
   "cell_type": "code",
   "execution_count": null,
   "metadata": {},
   "outputs": [],
   "source": []
  },
  {
   "cell_type": "markdown",
   "metadata": {},
   "source": [
    "- 발생건수와 사상자수, 사망자수 별 상위 10개 지점"
   ]
  },
  {
   "cell_type": "code",
   "execution_count": 48,
   "metadata": {
    "scrolled": false
   },
   "outputs": [
    {
     "data": {
      "text/html": [
       "<div>\n",
       "<style scoped>\n",
       "    .dataframe tbody tr th:only-of-type {\n",
       "        vertical-align: middle;\n",
       "    }\n",
       "\n",
       "    .dataframe tbody tr th {\n",
       "        vertical-align: top;\n",
       "    }\n",
       "\n",
       "    .dataframe thead th {\n",
       "        text-align: right;\n",
       "    }\n",
       "</style>\n",
       "<table border=\"1\" class=\"dataframe\">\n",
       "  <thead>\n",
       "    <tr style=\"text-align: right;\">\n",
       "      <th></th>\n",
       "      <th>시도명</th>\n",
       "      <th>지점명</th>\n",
       "      <th>발생건수</th>\n",
       "    </tr>\n",
       "  </thead>\n",
       "  <tbody>\n",
       "    <tr>\n",
       "      <th>252</th>\n",
       "      <td>경기도</td>\n",
       "      <td>경기도 안산시 단원구 선부동(도일사거리 부근)</td>\n",
       "      <td>9</td>\n",
       "    </tr>\n",
       "    <tr>\n",
       "      <th>120</th>\n",
       "      <td>전라남도</td>\n",
       "      <td>전라남도 나주시 금천면(나주교 부근)</td>\n",
       "      <td>8</td>\n",
       "    </tr>\n",
       "    <tr>\n",
       "      <th>31</th>\n",
       "      <td>광주광역시</td>\n",
       "      <td>광주광역시 서구 치평동(유덕교회 부근)</td>\n",
       "      <td>7</td>\n",
       "    </tr>\n",
       "    <tr>\n",
       "      <th>243</th>\n",
       "      <td>경기도</td>\n",
       "      <td>경기도 수원시 팔달구 인계동(인계사거리 부근)</td>\n",
       "      <td>6</td>\n",
       "    </tr>\n",
       "    <tr>\n",
       "      <th>101</th>\n",
       "      <td>충청북도</td>\n",
       "      <td>충청북도 청주시 서원구 개신동(한진신세대아파트 부근)</td>\n",
       "      <td>6</td>\n",
       "    </tr>\n",
       "    <tr>\n",
       "      <th>188</th>\n",
       "      <td>경기도</td>\n",
       "      <td>경기도 고양시 일산서구 법곳동(이산포분기점 부근)</td>\n",
       "      <td>6</td>\n",
       "    </tr>\n",
       "    <tr>\n",
       "      <th>74</th>\n",
       "      <td>경기도</td>\n",
       "      <td>경기도 안산시 상록구 건건동(신반월주유소앞 부근)</td>\n",
       "      <td>6</td>\n",
       "    </tr>\n",
       "    <tr>\n",
       "      <th>32</th>\n",
       "      <td>광주광역시</td>\n",
       "      <td>광주광역시 서구 치평동(삼성화재주상무사옥 부근)</td>\n",
       "      <td>5</td>\n",
       "    </tr>\n",
       "    <tr>\n",
       "      <th>153</th>\n",
       "      <td>광주광역시</td>\n",
       "      <td>광주광역시 북구 운암동(동운고가 부근)</td>\n",
       "      <td>5</td>\n",
       "    </tr>\n",
       "    <tr>\n",
       "      <th>255</th>\n",
       "      <td>경기도</td>\n",
       "      <td>경기도 고양시 일산서구 법곳동(이산포분기점 부근)</td>\n",
       "      <td>5</td>\n",
       "    </tr>\n",
       "  </tbody>\n",
       "</table>\n",
       "</div>"
      ],
      "text/plain": [
       "       시도명                            지점명  발생건수\n",
       "252    경기도      경기도 안산시 단원구 선부동(도일사거리 부근)     9\n",
       "120   전라남도           전라남도 나주시 금천면(나주교 부근)     8\n",
       "31   광주광역시          광주광역시 서구 치평동(유덕교회 부근)     7\n",
       "243    경기도      경기도 수원시 팔달구 인계동(인계사거리 부근)     6\n",
       "101   충청북도  충청북도 청주시 서원구 개신동(한진신세대아파트 부근)     6\n",
       "188    경기도    경기도 고양시 일산서구 법곳동(이산포분기점 부근)     6\n",
       "74     경기도    경기도 안산시 상록구 건건동(신반월주유소앞 부근)     6\n",
       "32   광주광역시     광주광역시 서구 치평동(삼성화재주상무사옥 부근)     5\n",
       "153  광주광역시          광주광역시 북구 운암동(동운고가 부근)     5\n",
       "255    경기도    경기도 고양시 일산서구 법곳동(이산포분기점 부근)     5"
      ]
     },
     "execution_count": 48,
     "metadata": {},
     "output_type": "execute_result"
    }
   ],
   "source": [
    "# 사고 발생건수 상위 10 지점 확인\n",
    "df_sort_1 = df.sort_values('발생건수', ascending=False)[:10][['시도명', '지점명', '발생건수']]\n",
    "df_sort_1"
   ]
  },
  {
   "cell_type": "code",
   "execution_count": 49,
   "metadata": {},
   "outputs": [
    {
     "data": {
      "image/png": "[encoded data removed]",
      "text/plain": [
       "<Figure size 432x288 with 1 Axes>"
      ]
     },
     "metadata": {
      "needs_background": "light"
     },
     "output_type": "display_data"
    }
   ],
   "source": [
    "sns.barplot(x = \"지점명\", y = \"발생건수\", data = df_sort_1, ci = None)\n",
    "plt.xticks(rotation = 70 )\n",
    "plt.show()"
   ]
  },
  {
   "cell_type": "code",
   "execution_count": 50,
   "metadata": {
    "scrolled": true
   },
   "outputs": [
    {
     "data": {
      "text/html": [
       "<div>\n",
       "<style scoped>\n",
       "    .dataframe tbody tr th:only-of-type {\n",
       "        vertical-align: middle;\n",
       "    }\n",
       "\n",
       "    .dataframe tbody tr th {\n",
       "        vertical-align: top;\n",
       "    }\n",
       "\n",
       "    .dataframe thead th {\n",
       "        text-align: right;\n",
       "    }\n",
       "</style>\n",
       "<table border=\"1\" class=\"dataframe\">\n",
       "  <thead>\n",
       "    <tr style=\"text-align: right;\">\n",
       "      <th></th>\n",
       "      <th>시도명</th>\n",
       "      <th>지점명</th>\n",
       "      <th>사상자수</th>\n",
       "    </tr>\n",
       "  </thead>\n",
       "  <tbody>\n",
       "    <tr>\n",
       "      <th>252</th>\n",
       "      <td>경기도</td>\n",
       "      <td>경기도 안산시 단원구 선부동(도일사거리 부근)</td>\n",
       "      <td>28</td>\n",
       "    </tr>\n",
       "    <tr>\n",
       "      <th>101</th>\n",
       "      <td>충청북도</td>\n",
       "      <td>충청북도 청주시 서원구 개신동(한진신세대아파트 부근)</td>\n",
       "      <td>22</td>\n",
       "    </tr>\n",
       "    <tr>\n",
       "      <th>188</th>\n",
       "      <td>경기도</td>\n",
       "      <td>경기도 고양시 일산서구 법곳동(이산포분기점 부근)</td>\n",
       "      <td>21</td>\n",
       "    </tr>\n",
       "    <tr>\n",
       "      <th>31</th>\n",
       "      <td>광주광역시</td>\n",
       "      <td>광주광역시 서구 치평동(유덕교회 부근)</td>\n",
       "      <td>20</td>\n",
       "    </tr>\n",
       "    <tr>\n",
       "      <th>255</th>\n",
       "      <td>경기도</td>\n",
       "      <td>경기도 고양시 일산서구 법곳동(이산포분기점 부근)</td>\n",
       "      <td>20</td>\n",
       "    </tr>\n",
       "    <tr>\n",
       "      <th>113</th>\n",
       "      <td>전라북도</td>\n",
       "      <td>전라북도 군산시 서수면(영창교 인근)</td>\n",
       "      <td>19</td>\n",
       "    </tr>\n",
       "    <tr>\n",
       "      <th>120</th>\n",
       "      <td>전라남도</td>\n",
       "      <td>전라남도 나주시 금천면(나주교 부근)</td>\n",
       "      <td>18</td>\n",
       "    </tr>\n",
       "    <tr>\n",
       "      <th>33</th>\n",
       "      <td>광주광역시</td>\n",
       "      <td>광주광역시 남구 백운동(백운교차로 부근)</td>\n",
       "      <td>17</td>\n",
       "    </tr>\n",
       "    <tr>\n",
       "      <th>79</th>\n",
       "      <td>경기도</td>\n",
       "      <td>경기도 고양시 일산서구 법곳동(이산포분기점 부근)</td>\n",
       "      <td>16</td>\n",
       "    </tr>\n",
       "    <tr>\n",
       "      <th>75</th>\n",
       "      <td>경기도</td>\n",
       "      <td>경기도 안산시 단원구 선부동(도일사거리 부근)</td>\n",
       "      <td>16</td>\n",
       "    </tr>\n",
       "  </tbody>\n",
       "</table>\n",
       "</div>"
      ],
      "text/plain": [
       "       시도명                            지점명  사상자수\n",
       "252    경기도      경기도 안산시 단원구 선부동(도일사거리 부근)    28\n",
       "101   충청북도  충청북도 청주시 서원구 개신동(한진신세대아파트 부근)    22\n",
       "188    경기도    경기도 고양시 일산서구 법곳동(이산포분기점 부근)    21\n",
       "31   광주광역시          광주광역시 서구 치평동(유덕교회 부근)    20\n",
       "255    경기도    경기도 고양시 일산서구 법곳동(이산포분기점 부근)    20\n",
       "113   전라북도           전라북도 군산시 서수면(영창교 인근)    19\n",
       "120   전라남도           전라남도 나주시 금천면(나주교 부근)    18\n",
       "33   광주광역시         광주광역시 남구 백운동(백운교차로 부근)    17\n",
       "79     경기도    경기도 고양시 일산서구 법곳동(이산포분기점 부근)    16\n",
       "75     경기도      경기도 안산시 단원구 선부동(도일사거리 부근)    16"
      ]
     },
     "execution_count": 50,
     "metadata": {},
     "output_type": "execute_result"
    }
   ],
   "source": [
    "# 사상자수 상위 10개 지점\n",
    "df.sort_values(['사상자수'], ascending=False)[:10][['시도명', '지점명','사상자수']]"
   ]
  },
  {
   "cell_type": "code",
   "execution_count": 51,
   "metadata": {},
   "outputs": [
    {
     "data": {
      "text/html": [
       "<div>\n",
       "<style scoped>\n",
       "    .dataframe tbody tr th:only-of-type {\n",
       "        vertical-align: middle;\n",
       "    }\n",
       "\n",
       "    .dataframe tbody tr th {\n",
       "        vertical-align: top;\n",
       "    }\n",
       "\n",
       "    .dataframe thead th {\n",
       "        text-align: right;\n",
       "    }\n",
       "</style>\n",
       "<table border=\"1\" class=\"dataframe\">\n",
       "  <thead>\n",
       "    <tr style=\"text-align: right;\">\n",
       "      <th></th>\n",
       "      <th>시도명</th>\n",
       "      <th>지점명</th>\n",
       "      <th>사망자수</th>\n",
       "    </tr>\n",
       "  </thead>\n",
       "  <tbody>\n",
       "    <tr>\n",
       "      <th>277</th>\n",
       "      <td>경상북도</td>\n",
       "      <td>경상북도 봉화군 소천면</td>\n",
       "      <td>1</td>\n",
       "    </tr>\n",
       "    <tr>\n",
       "      <th>112</th>\n",
       "      <td>전라북도</td>\n",
       "      <td>전라북도 전주시 덕진구 팔복동4가(전주천교동단 부근)</td>\n",
       "      <td>1</td>\n",
       "    </tr>\n",
       "    <tr>\n",
       "      <th>225</th>\n",
       "      <td>경상북도</td>\n",
       "      <td>경상북도 봉화군 소천면(고선2리마을회관 부근)</td>\n",
       "      <td>1</td>\n",
       "    </tr>\n",
       "    <tr>\n",
       "      <th>221</th>\n",
       "      <td>경상북도</td>\n",
       "      <td>경상북도 안동시 이천동</td>\n",
       "      <td>1</td>\n",
       "    </tr>\n",
       "    <tr>\n",
       "      <th>43</th>\n",
       "      <td>광주광역시</td>\n",
       "      <td>광주광역시 광산구 지죽동(평림교북단 부근)</td>\n",
       "      <td>1</td>\n",
       "    </tr>\n",
       "    <tr>\n",
       "      <th>177</th>\n",
       "      <td>경기도</td>\n",
       "      <td>경기도 부천시 오정동(오정교차로 부근)</td>\n",
       "      <td>1</td>\n",
       "    </tr>\n",
       "    <tr>\n",
       "      <th>77</th>\n",
       "      <td>경기도</td>\n",
       "      <td>경기도 고양시 일산동구 장항동(장항인터체인지 부근)</td>\n",
       "      <td>1</td>\n",
       "    </tr>\n",
       "    <tr>\n",
       "      <th>205</th>\n",
       "      <td>충청남도</td>\n",
       "      <td>충청남도 당진시 송산면( )</td>\n",
       "      <td>1</td>\n",
       "    </tr>\n",
       "    <tr>\n",
       "      <th>158</th>\n",
       "      <td>대전광역시</td>\n",
       "      <td>대전광역시 동구 신흥동(제1치수교네거리 부근)</td>\n",
       "      <td>1</td>\n",
       "    </tr>\n",
       "    <tr>\n",
       "      <th>202</th>\n",
       "      <td>충청북도</td>\n",
       "      <td>충청북도 청주시 상당구 낭성면(우리주유소 부근)</td>\n",
       "      <td>1</td>\n",
       "    </tr>\n",
       "  </tbody>\n",
       "</table>\n",
       "</div>"
      ],
      "text/plain": [
       "       시도명                            지점명  사망자수\n",
       "277   경상북도                   경상북도 봉화군 소천면     1\n",
       "112   전라북도  전라북도 전주시 덕진구 팔복동4가(전주천교동단 부근)     1\n",
       "225   경상북도      경상북도 봉화군 소천면(고선2리마을회관 부근)     1\n",
       "221   경상북도                   경상북도 안동시 이천동     1\n",
       "43   광주광역시        광주광역시 광산구 지죽동(평림교북단 부근)     1\n",
       "177    경기도          경기도 부천시 오정동(오정교차로 부근)     1\n",
       "77     경기도   경기도 고양시 일산동구 장항동(장항인터체인지 부근)     1\n",
       "205   충청남도                충청남도 당진시 송산면( )     1\n",
       "158  대전광역시      대전광역시 동구 신흥동(제1치수교네거리 부근)     1\n",
       "202   충청북도     충청북도 청주시 상당구 낭성면(우리주유소 부근)     1"
      ]
     },
     "execution_count": 51,
     "metadata": {},
     "output_type": "execute_result"
    }
   ],
   "source": [
    "# 사망자수 상위 10개 지점\n",
    "df.sort_values(['사망자수'], ascending=False)[:10][['시도명', '지점명', '사망자수']]"
   ]
  },
  {
   "cell_type": "code",
   "execution_count": null,
   "metadata": {},
   "outputs": [],
   "source": []
  },
  {
   "cell_type": "markdown",
   "metadata": {},
   "source": [
    "## 데이터 분리"
   ]
  },
  {
   "cell_type": "code",
   "execution_count": 78,
   "metadata": {},
   "outputs": [],
   "source": [
    "# 경기도 지역에 대한 추가적인 분석을 위해 데이터를 분리한다."
   ]
  },
  {
   "cell_type": "code",
   "execution_count": 101,
   "metadata": {},
   "outputs": [
    {
     "data": {
      "text/html": [
       "<div>\n",
       "<style scoped>\n",
       "    .dataframe tbody tr th:only-of-type {\n",
       "        vertical-align: middle;\n",
       "    }\n",
       "\n",
       "    .dataframe tbody tr th {\n",
       "        vertical-align: top;\n",
       "    }\n",
       "\n",
       "    .dataframe thead th {\n",
       "        text-align: right;\n",
       "    }\n",
       "</style>\n",
       "<table border=\"1\" class=\"dataframe\">\n",
       "  <thead>\n",
       "    <tr style=\"text-align: right;\">\n",
       "      <th></th>\n",
       "      <th>시도명</th>\n",
       "      <th>지점명</th>\n",
       "      <th>발생건수</th>\n",
       "      <th>사상자수</th>\n",
       "      <th>사망자수</th>\n",
       "      <th>중상자수</th>\n",
       "      <th>경상자수</th>\n",
       "      <th>부상신고자수</th>\n",
       "    </tr>\n",
       "  </thead>\n",
       "  <tbody>\n",
       "    <tr>\n",
       "      <th>53</th>\n",
       "      <td>경기도</td>\n",
       "      <td>경기도 수원시 장안구 율전동(힐타운빌라 부근)</td>\n",
       "      <td>4</td>\n",
       "      <td>7</td>\n",
       "      <td>0</td>\n",
       "      <td>1</td>\n",
       "      <td>6</td>\n",
       "      <td>0</td>\n",
       "    </tr>\n",
       "    <tr>\n",
       "      <th>54</th>\n",
       "      <td>경기도</td>\n",
       "      <td>경기도 수원시 장안구 이목동(북수원IC 부근)</td>\n",
       "      <td>3</td>\n",
       "      <td>4</td>\n",
       "      <td>0</td>\n",
       "      <td>0</td>\n",
       "      <td>3</td>\n",
       "      <td>1</td>\n",
       "    </tr>\n",
       "    <tr>\n",
       "      <th>55</th>\n",
       "      <td>경기도</td>\n",
       "      <td>경기도 수원시 권선구 권선동(신동아대원아파트 부근)</td>\n",
       "      <td>4</td>\n",
       "      <td>12</td>\n",
       "      <td>0</td>\n",
       "      <td>5</td>\n",
       "      <td>4</td>\n",
       "      <td>3</td>\n",
       "    </tr>\n",
       "    <tr>\n",
       "      <th>56</th>\n",
       "      <td>경기도</td>\n",
       "      <td>경기도 수원시 권선구 세류동(터미널사거리 부근)</td>\n",
       "      <td>3</td>\n",
       "      <td>5</td>\n",
       "      <td>0</td>\n",
       "      <td>1</td>\n",
       "      <td>4</td>\n",
       "      <td>0</td>\n",
       "    </tr>\n",
       "    <tr>\n",
       "      <th>57</th>\n",
       "      <td>경기도</td>\n",
       "      <td>경기도 수원시 권선구 금곡동(금곡교8 부근)</td>\n",
       "      <td>3</td>\n",
       "      <td>5</td>\n",
       "      <td>0</td>\n",
       "      <td>1</td>\n",
       "      <td>3</td>\n",
       "      <td>1</td>\n",
       "    </tr>\n",
       "    <tr>\n",
       "      <th>...</th>\n",
       "      <td>...</td>\n",
       "      <td>...</td>\n",
       "      <td>...</td>\n",
       "      <td>...</td>\n",
       "      <td>...</td>\n",
       "      <td>...</td>\n",
       "      <td>...</td>\n",
       "      <td>...</td>\n",
       "    </tr>\n",
       "    <tr>\n",
       "      <th>256</th>\n",
       "      <td>경기도</td>\n",
       "      <td>경기도 고양시 일산서구 법곳동(법곳동19615 부근)</td>\n",
       "      <td>5</td>\n",
       "      <td>9</td>\n",
       "      <td>0</td>\n",
       "      <td>0</td>\n",
       "      <td>5</td>\n",
       "      <td>4</td>\n",
       "    </tr>\n",
       "    <tr>\n",
       "      <th>258</th>\n",
       "      <td>경기도</td>\n",
       "      <td>경기도 용인시 기흥구 신갈동(신갈JC서측영동선본선 부근)</td>\n",
       "      <td>5</td>\n",
       "      <td>11</td>\n",
       "      <td>0</td>\n",
       "      <td>1</td>\n",
       "      <td>10</td>\n",
       "      <td>0</td>\n",
       "    </tr>\n",
       "    <tr>\n",
       "      <th>259</th>\n",
       "      <td>경기도</td>\n",
       "      <td>경기도 안성시 양성면(만세로728 부근)</td>\n",
       "      <td>3</td>\n",
       "      <td>8</td>\n",
       "      <td>0</td>\n",
       "      <td>1</td>\n",
       "      <td>4</td>\n",
       "      <td>3</td>\n",
       "    </tr>\n",
       "    <tr>\n",
       "      <th>260</th>\n",
       "      <td>경기도</td>\n",
       "      <td>경기도 김포시 운양동(김포대로1216번길2 부근)</td>\n",
       "      <td>3</td>\n",
       "      <td>4</td>\n",
       "      <td>0</td>\n",
       "      <td>1</td>\n",
       "      <td>3</td>\n",
       "      <td>0</td>\n",
       "    </tr>\n",
       "    <tr>\n",
       "      <th>261</th>\n",
       "      <td>경기도</td>\n",
       "      <td>경기도 포천시 화현면(화현면화현리11051 부근)</td>\n",
       "      <td>3</td>\n",
       "      <td>8</td>\n",
       "      <td>0</td>\n",
       "      <td>2</td>\n",
       "      <td>6</td>\n",
       "      <td>0</td>\n",
       "    </tr>\n",
       "  </tbody>\n",
       "</table>\n",
       "<p>81 rows × 8 columns</p>\n",
       "</div>"
      ],
      "text/plain": [
       "     시도명                              지점명  발생건수  사상자수  사망자수  중상자수  경상자수  \\\n",
       "53   경기도        경기도 수원시 장안구 율전동(힐타운빌라 부근)     4     7     0     1     6   \n",
       "54   경기도        경기도 수원시 장안구 이목동(북수원IC 부근)     3     4     0     0     3   \n",
       "55   경기도     경기도 수원시 권선구 권선동(신동아대원아파트 부근)     4    12     0     5     4   \n",
       "56   경기도       경기도 수원시 권선구 세류동(터미널사거리 부근)     3     5     0     1     4   \n",
       "57   경기도         경기도 수원시 권선구 금곡동(금곡교8 부근)     3     5     0     1     3   \n",
       "..   ...                              ...   ...   ...   ...   ...   ...   \n",
       "256  경기도    경기도 고양시 일산서구 법곳동(법곳동19615 부근)     5     9     0     0     5   \n",
       "258  경기도  경기도 용인시 기흥구 신갈동(신갈JC서측영동선본선 부근)     5    11     0     1    10   \n",
       "259  경기도           경기도 안성시 양성면(만세로728 부근)     3     8     0     1     4   \n",
       "260  경기도      경기도 김포시 운양동(김포대로1216번길2 부근)     3     4     0     1     3   \n",
       "261  경기도      경기도 포천시 화현면(화현면화현리11051 부근)     3     8     0     2     6   \n",
       "\n",
       "     부상신고자수  \n",
       "53        0  \n",
       "54        1  \n",
       "55        3  \n",
       "56        0  \n",
       "57        1  \n",
       "..      ...  \n",
       "256       4  \n",
       "258       0  \n",
       "259       3  \n",
       "260       0  \n",
       "261       0  \n",
       "\n",
       "[81 rows x 8 columns]"
      ]
     },
     "execution_count": 101,
     "metadata": {},
     "output_type": "execute_result"
    }
   ],
   "source": [
    "df_g = df[df.시도명 == \"경기도\"]\n",
    "df_g"
   ]
  },
  {
   "cell_type": "code",
   "execution_count": 102,
   "metadata": {},
   "outputs": [
    {
     "name": "stderr",
     "output_type": "stream",
     "text": [
      "C:\\Users\\Sun\\anaconda3\\lib\\site-packages\\pandas\\core\\frame.py:4305: SettingWithCopyWarning: \n",
      "A value is trying to be set on a copy of a slice from a DataFrame\n",
      "\n",
      "See the caveats in the documentation: https://pandas.pydata.org/pandas-docs/stable/user_guide/indexing.html#returning-a-view-versus-a-copy\n",
      "  return super().drop(\n"
     ]
    }
   ],
   "source": [
    "# 필요없는 첫번째 열 제거\n",
    "\n",
    "df_g.drop([\"시도명\"], axis = 1, inplace = True)"
   ]
  },
  {
   "cell_type": "code",
   "execution_count": 103,
   "metadata": {
    "scrolled": true
   },
   "outputs": [
    {
     "name": "stderr",
     "output_type": "stream",
     "text": [
      "C:\\Users\\Sun\\anaconda3\\lib\\site-packages\\pandas\\core\\generic.py:5491: SettingWithCopyWarning: \n",
      "A value is trying to be set on a copy of a slice from a DataFrame.\n",
      "Try using .loc[row_indexer,col_indexer] = value instead\n",
      "\n",
      "See the caveats in the documentation: https://pandas.pydata.org/pandas-docs/stable/user_guide/indexing.html#returning-a-view-versus-a-copy\n",
      "  self[name] = value\n"
     ]
    }
   ],
   "source": [
    "# 지점명 중 시의 이름만 가져온다. \n",
    "\n",
    "df_g.지점명 = df_g.지점명.apply(lambda x : x.split(\" \")[1])"
   ]
  },
  {
   "cell_type": "code",
   "execution_count": 104,
   "metadata": {},
   "outputs": [],
   "source": [
    "# 시별로 합계\n",
    "\n",
    "df_g = df_g.groupby(\"지점명\").sum()"
   ]
  },
  {
   "cell_type": "code",
   "execution_count": 105,
   "metadata": {},
   "outputs": [],
   "source": [
    "# 지점명 열을 추가하고 인덱스 리셋\n",
    "\n",
    "df_g = df_g.rename_axis('지점명').reset_index()"
   ]
  },
  {
   "cell_type": "code",
   "execution_count": 109,
   "metadata": {},
   "outputs": [],
   "source": [
    "# csv 파일로 저장해둔다. \n",
    "\n",
    "df_g.to_csv(\"gyeonggi_data.csv\", encoding = \"euc-kr\", index = False)"
   ]
  },
  {
   "cell_type": "code",
   "execution_count": null,
   "metadata": {},
   "outputs": [],
   "source": []
  }
 ],
 "metadata": {
  "kernelspec": {
   "display_name": "Python 3",
   "language": "python",
   "name": "python3"
  },
  "language_info": {
   "codemirror_mode": {
    "name": "ipython",
    "version": 3
   },
   "file_extension": ".py",
   "mimetype": "text/x-python",
   "name": "python",
   "nbconvert_exporter": "python",
   "pygments_lexer": "ipython3",
   "version": "3.8.5"
  }
 },
 "nbformat": 4,
 "nbformat_minor": 4
}
